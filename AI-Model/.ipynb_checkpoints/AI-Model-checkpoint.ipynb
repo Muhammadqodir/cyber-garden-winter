{
 "cells": [
  {
   "cell_type": "code",
   "execution_count": null,
   "id": "0f7e538f-ab0e-41cf-9c7f-53e11e9dbbd0",
   "metadata": {},
   "outputs": [],
   "source": []
  }
 ],
 "metadata": {
  "kernelspec": {
   "display_name": "Python 3 (ipykernel)",
   "language": "python",
   "name": "python3"
  },
  "language_info": {
   "codemirror_mode": {
    "name": "ipython",
    "version": 3
   },
   "file_extension": ".py",
   "mimetype": "text/x-python",
   "name": "python",
   "nbconvert_exporter": "python",
   "pygments_lexer": "ipython3",
   "version": "3.9.6"
  }
 },
 "nbformat": 4,
 "nbformat_minor": 5
}
